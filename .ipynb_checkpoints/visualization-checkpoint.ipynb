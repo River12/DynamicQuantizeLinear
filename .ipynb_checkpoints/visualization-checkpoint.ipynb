{
 "cells": [
  {
   "cell_type": "code",
   "execution_count": 3,
   "id": "220539c5-6912-4bf7-acf6-90a63479c45a",
   "metadata": {},
   "outputs": [],
   "source": [
    "import matplotlib.pyplot as plt\n",
    "import pandas as pd\n",
    "import numpy as np"
   ]
  },
  {
   "cell_type": "markdown",
   "id": "da0875ad",
   "metadata": {},
   "source": [
    "# Correctness Test\n",
    "from https://github.com/onnx/onnx/blob/main/docs/Operators.md#DynamicQuantizeLinear"
   ]
  },
  {
   "cell_type": "code",
   "execution_count": 104,
   "id": "b8fd1685",
   "metadata": {},
   "outputs": [
    {
     "name": "stdout",
     "output_type": "stream",
     "text": [
      "Y_Scale:  0.019607844 , Y_ZeroPoint:  153\n",
      "Y:  [153 255   0  26 221 179]\n"
     ]
    }
   ],
   "source": [
    "# Test Case 1\n",
    "X = np.array([0, 2, -3, -2.5, 1.34, 0.5]).astype(np.float32)\n",
    "x_min = np.minimum(0, np.min(X))\n",
    "x_max = np.maximum(0, np.max(X))\n",
    "Y_Scale = np.float32((x_max - x_min) / (255 - 0))  # uint8 -> [0, 255]\n",
    "Y_ZeroPoint = np.clip(round((0 - x_min) / Y_Scale), 0, 255).astype(np.uint8)\n",
    "Y = np.clip(np.round(X / Y_Scale) + Y_ZeroPoint, 0, 255).astype(np.uint8)\n",
    "\n",
    "print(\"Y_Scale: \", Y_Scale, \", Y_ZeroPoint: \", Y_ZeroPoint)\n",
    "print(\"Y: \", Y)"
   ]
  },
  {
   "cell_type": "code",
   "execution_count": 105,
   "id": "b67725cc",
   "metadata": {},
   "outputs": [
    {
     "name": "stdout",
     "output_type": "stream",
     "text": [
      "Y_Scale:  0.015686275 , Y_ZeroPoint:  255\n",
      "Y:  [191 121 172  96  42   0]\n"
     ]
    }
   ],
   "source": [
    "# Test Case 2\n",
    "X = np.array([-1.0, -2.1, -1.3, -2.5, -3.34, -4.0]).astype(np.float32)\n",
    "x_min = np.minimum(0, np.min(X))\n",
    "x_max = np.maximum(0, np.max(X))\n",
    "Y_Scale = np.float32((x_max - x_min) / (255 - 0))  # uint8 -> [0, 255]\n",
    "Y_ZeroPoint = np.clip(round((0 - x_min) / Y_Scale), 0, 255).astype(np.uint8)\n",
    "Y = np.clip(np.round(X / Y_Scale) + Y_ZeroPoint, 0, 255).astype(np.uint8)\n",
    "\n",
    "print(\"Y_Scale: \", Y_Scale, \", Y_ZeroPoint: \", Y_ZeroPoint)\n",
    "print(\"Y: \", Y)"
   ]
  },
  {
   "cell_type": "code",
   "execution_count": 106,
   "id": "b6dae284",
   "metadata": {},
   "outputs": [
    {
     "name": "stdout",
     "output_type": "stream",
     "text": [
      "Y_Scale:  0.015686275 , Y_ZeroPoint:  0\n",
      "Y:  [[ 64 134  83 159]\n",
      " [213 255  96 166]\n",
      " [249 255 191 149]]\n"
     ]
    }
   ],
   "source": [
    "# Test Case 3\n",
    "X = (\n",
    "    np.array([1, 2.1, 1.3, 2.5, 3.34, 4.0, 1.5, 2.6, 3.9, 4.0, 3.0, 2.345])\n",
    "    .astype(np.float32)\n",
    "    .reshape((3, 4))\n",
    ")\n",
    "\n",
    "# expected scale 0.0156862754 and zero point 0\n",
    "x_min = np.minimum(0, np.min(X))\n",
    "x_max = np.maximum(0, np.max(X))\n",
    "Y_Scale = np.float32((x_max - x_min) / (255 - 0))  # uint8 -> [0, 255]\n",
    "Y_ZeroPoint = np.clip(round((0 - x_min) / Y_Scale), 0, 255).astype(np.uint8)\n",
    "Y = np.clip(np.round(X / Y_Scale) + Y_ZeroPoint, 0, 255).astype(np.uint8)\n",
    "\n",
    "print(\"Y_Scale: \", Y_Scale, \", Y_ZeroPoint: \", Y_ZeroPoint)\n",
    "print(\"Y: \", Y)"
   ]
  },
  {
   "cell_type": "markdown",
   "id": "6aec5b4b-1fa8-4dcd-9b40-fe47406db2e4",
   "metadata": {},
   "source": [
    "# Extremely Large Tensor (size 1e9)"
   ]
  },
  {
   "cell_type": "markdown",
   "id": "d14dca21-1afa-4927-ab8d-039c42c76102",
   "metadata": {},
   "source": [
    "## Optimization Method Comparison"
   ]
  },
  {
   "cell_type": "code",
   "execution_count": 25,
   "id": "97998ecc",
   "metadata": {},
   "outputs": [
    {
     "data": {
      "text/html": [
       "<div>\n",
       "<style scoped>\n",
       "    .dataframe tbody tr th:only-of-type {\n",
       "        vertical-align: middle;\n",
       "    }\n",
       "\n",
       "    .dataframe tbody tr th {\n",
       "        vertical-align: top;\n",
       "    }\n",
       "\n",
       "    .dataframe thead th {\n",
       "        text-align: right;\n",
       "    }\n",
       "</style>\n",
       "<table border=\"1\" class=\"dataframe\">\n",
       "  <thead>\n",
       "    <tr style=\"text-align: right;\">\n",
       "      <th></th>\n",
       "      <th>naive</th>\n",
       "      <th>omp</th>\n",
       "      <th>omp_tiling</th>\n",
       "      <th>omp_avx</th>\n",
       "      <th>omp_avx512</th>\n",
       "      <th>omp_avx512_fused</th>\n",
       "    </tr>\n",
       "  </thead>\n",
       "  <tbody>\n",
       "    <tr>\n",
       "      <th>0</th>\n",
       "      <td>11.797351</td>\n",
       "      <td>0.662356</td>\n",
       "      <td>0.316525</td>\n",
       "      <td>0.355994</td>\n",
       "      <td>0.359103</td>\n",
       "      <td>0.366323</td>\n",
       "    </tr>\n",
       "    <tr>\n",
       "      <th>1</th>\n",
       "      <td>11.893894</td>\n",
       "      <td>0.634384</td>\n",
       "      <td>0.327315</td>\n",
       "      <td>0.366145</td>\n",
       "      <td>0.356004</td>\n",
       "      <td>0.367397</td>\n",
       "    </tr>\n",
       "    <tr>\n",
       "      <th>2</th>\n",
       "      <td>11.865918</td>\n",
       "      <td>0.633149</td>\n",
       "      <td>0.329383</td>\n",
       "      <td>0.368103</td>\n",
       "      <td>0.355129</td>\n",
       "      <td>0.377162</td>\n",
       "    </tr>\n",
       "    <tr>\n",
       "      <th>3</th>\n",
       "      <td>11.892028</td>\n",
       "      <td>0.636941</td>\n",
       "      <td>0.330206</td>\n",
       "      <td>0.368414</td>\n",
       "      <td>0.361991</td>\n",
       "      <td>0.367337</td>\n",
       "    </tr>\n",
       "    <tr>\n",
       "      <th>4</th>\n",
       "      <td>11.900887</td>\n",
       "      <td>0.661751</td>\n",
       "      <td>0.323265</td>\n",
       "      <td>0.363583</td>\n",
       "      <td>0.359651</td>\n",
       "      <td>0.369820</td>\n",
       "    </tr>\n",
       "  </tbody>\n",
       "</table>\n",
       "</div>"
      ],
      "text/plain": [
       "       naive       omp  omp_tiling   omp_avx  omp_avx512  omp_avx512_fused\n",
       "0  11.797351  0.662356    0.316525  0.355994    0.359103          0.366323\n",
       "1  11.893894  0.634384    0.327315  0.366145    0.356004          0.367397\n",
       "2  11.865918  0.633149    0.329383  0.368103    0.355129          0.377162\n",
       "3  11.892028  0.636941    0.330206  0.368414    0.361991          0.367337\n",
       "4  11.900887  0.661751    0.323265  0.363583    0.359651          0.369820"
      ]
     },
     "execution_count": 25,
     "metadata": {},
     "output_type": "execute_result"
    }
   ],
   "source": [
    "# read data\n",
    "df = pd.read_csv(\"./result_ext_large/opt_methods.csv\", header=None, \n",
    "                 names = ['naive', 'omp', 'omp_tiling', 'omp_avx', \n",
    "                          'omp_avx512', 'omp_avx512_fused'])\n",
    "df.head()"
   ]
  },
  {
   "cell_type": "code",
   "execution_count": 26,
   "id": "362efded",
   "metadata": {},
   "outputs": [
    {
     "name": "stdout",
     "output_type": "stream",
     "text": [
      "Average Runtime(s):\n"
     ]
    },
    {
     "data": {
      "text/plain": [
       "naive               11.881307\n",
       "omp                  0.654133\n",
       "omp_tiling           0.324689\n",
       "omp_avx              0.369748\n",
       "omp_avx512           0.359311\n",
       "omp_avx512_fused     0.371726\n",
       "dtype: float64"
      ]
     },
     "execution_count": 26,
     "metadata": {},
     "output_type": "execute_result"
    }
   ],
   "source": [
    "print(\"Average Runtime(s):\")\n",
    "df.mean()"
   ]
  },
  {
   "cell_type": "code",
   "execution_count": 27,
   "id": "babf90e2",
   "metadata": {},
   "outputs": [
    {
     "data": {
      "image/png": "[encoded data removed]",
      "text/plain": [
       "<Figure size 504x288 with 1 Axes>"
      ]
     },
     "metadata": {
      "needs_background": "light"
     },
     "output_type": "display_data"
    }
   ],
   "source": [
    "plt.figure(figsize=(7, 4))\n",
    "\n",
    "boxprops = dict(color='gray', facecolor='green', alpha=0.5)\n",
    "whiskerprops = dict(linestyle='--', linewidth=1.5, color='gray')\n",
    "capprops = dict(linestyle='-', linewidth=2, color='black')\n",
    "\n",
    "# Create boxplot\n",
    "ax = df.boxplot(color=dict(boxes='red', whiskers='black', medians='orange', caps='gray'), \n",
    "                boxprops=boxprops, whiskerprops=whiskerprops, capprops=capprops, patch_artist=True)\n",
    "\n",
    "# Add labels and title\n",
    "ax.set_xlabel('Optimization Methods', fontsize=14)\n",
    "ax.set_ylabel('Runtime(s)', fontsize=14)\n",
    "ax.set_title('Runtime Comparison (32 threads, input size 1e9)', fontsize=16)\n",
    "\n",
    "plt.xticks(fontsize=12, rotation=8)\n",
    "plt.yticks(fontsize=12)\n",
    "\n",
    "plt.tight_layout()\n",
    "plt.show()\n",
    "# scatter average point"
   ]
  },
  {
   "cell_type": "code",
   "execution_count": 28,
   "id": "8897c284",
   "metadata": {},
   "outputs": [
    {
     "data": {
      "text/plain": [
       "omp                 18.173767\n",
       "omp_tiling          36.610381\n",
       "omp_avx             32.157613\n",
       "omp_avx512          33.075285\n",
       "omp_avx512_fused    31.970794\n",
       "dtype: float64"
      ]
     },
     "execution_count": 28,
     "metadata": {},
     "output_type": "execute_result"
    }
   ],
   "source": [
    "df_speedup = df[df.columns[1:]].apply(lambda x: df.iloc[:, 0] / x)\n",
    "df_speedup.mean()"
   ]
  },
  {
   "cell_type": "code",
   "execution_count": 29,
   "id": "cefb7e90",
   "metadata": {},
   "outputs": [
    {
     "data": {
      "image/png": "[encoded data removed]",
      "text/plain": [
       "<Figure size 504x288 with 1 Axes>"
      ]
     },
     "metadata": {
      "needs_background": "light"
     },
     "output_type": "display_data"
    }
   ],
   "source": [
    "plt.figure(figsize=(7, 4))\n",
    "\n",
    "boxprops = dict(color='gray', facecolor='green', alpha=0.5)\n",
    "whiskerprops = dict(linestyle='--', linewidth=1.5, color='gray')\n",
    "capprops = dict(linestyle='-', linewidth=2, color='black')\n",
    "\n",
    "ax = df_speedup.boxplot(color=dict(boxes='red', whiskers='black', medians='orange', caps='gray'), \n",
    "                boxprops=boxprops, whiskerprops=whiskerprops, capprops=capprops, patch_artist=True)\n",
    "\n",
    "ax.set_xlabel('Optimization Methods', fontsize=14)\n",
    "ax.set_ylabel('Speedup(x)', fontsize=14)\n",
    "ax.set_title('Speedup Comparison (32 threads, input size 1e9)', fontsize=16)\n",
    "\n",
    "plt.xticks(fontsize=12, rotation=8)\n",
    "plt.yticks(fontsize=12)\n",
    "\n",
    "plt.tight_layout()\n",
    "plt.show()\n",
    "\n",
    "\n",
    "# scatter average point"
   ]
  },
  {
   "cell_type": "markdown",
   "id": "0ce5601d-15e7-4175-9a0a-11e418f5ebbe",
   "metadata": {},
   "source": [
    "## Scalability"
   ]
  },
  {
   "cell_type": "markdown",
   "id": "e899c646",
   "metadata": {},
   "source": [
    "### AVX512"
   ]
  },
  {
   "cell_type": "code",
   "execution_count": 30,
   "id": "418213c2-eada-4eba-984f-75743f35f1da",
   "metadata": {},
   "outputs": [
    {
     "data": {
      "text/html": [
       "<div>\n",
       "<style scoped>\n",
       "    .dataframe tbody tr th:only-of-type {\n",
       "        vertical-align: middle;\n",
       "    }\n",
       "\n",
       "    .dataframe tbody tr th {\n",
       "        vertical-align: top;\n",
       "    }\n",
       "\n",
       "    .dataframe thead th {\n",
       "        text-align: right;\n",
       "    }\n",
       "</style>\n",
       "<table border=\"1\" class=\"dataframe\">\n",
       "  <thead>\n",
       "    <tr style=\"text-align: right;\">\n",
       "      <th></th>\n",
       "      <th>2</th>\n",
       "      <th>4</th>\n",
       "      <th>8</th>\n",
       "      <th>16</th>\n",
       "      <th>32</th>\n",
       "      <th>64</th>\n",
       "      <th>128</th>\n",
       "    </tr>\n",
       "  </thead>\n",
       "  <tbody>\n",
       "    <tr>\n",
       "      <th>0</th>\n",
       "      <td>1.367149</td>\n",
       "      <td>0.811965</td>\n",
       "      <td>0.495045</td>\n",
       "      <td>0.495274</td>\n",
       "      <td>0.364864</td>\n",
       "      <td>0.365870</td>\n",
       "      <td>0.365942</td>\n",
       "    </tr>\n",
       "    <tr>\n",
       "      <th>1</th>\n",
       "      <td>1.386619</td>\n",
       "      <td>0.811564</td>\n",
       "      <td>0.551157</td>\n",
       "      <td>0.494958</td>\n",
       "      <td>0.365343</td>\n",
       "      <td>0.365712</td>\n",
       "      <td>0.364530</td>\n",
       "    </tr>\n",
       "    <tr>\n",
       "      <th>2</th>\n",
       "      <td>1.371923</td>\n",
       "      <td>0.812865</td>\n",
       "      <td>0.585739</td>\n",
       "      <td>0.506897</td>\n",
       "      <td>0.366309</td>\n",
       "      <td>0.368955</td>\n",
       "      <td>0.368233</td>\n",
       "    </tr>\n",
       "    <tr>\n",
       "      <th>3</th>\n",
       "      <td>1.361687</td>\n",
       "      <td>0.828306</td>\n",
       "      <td>0.497848</td>\n",
       "      <td>0.511623</td>\n",
       "      <td>0.363728</td>\n",
       "      <td>0.372038</td>\n",
       "      <td>0.366924</td>\n",
       "    </tr>\n",
       "    <tr>\n",
       "      <th>4</th>\n",
       "      <td>1.367667</td>\n",
       "      <td>0.811987</td>\n",
       "      <td>0.498070</td>\n",
       "      <td>0.486419</td>\n",
       "      <td>0.364746</td>\n",
       "      <td>0.367988</td>\n",
       "      <td>0.368895</td>\n",
       "    </tr>\n",
       "  </tbody>\n",
       "</table>\n",
       "</div>"
      ],
      "text/plain": [
       "          2         4         8        16        32        64       128\n",
       "0  1.367149  0.811965  0.495045  0.495274  0.364864  0.365870  0.365942\n",
       "1  1.386619  0.811564  0.551157  0.494958  0.365343  0.365712  0.364530\n",
       "2  1.371923  0.812865  0.585739  0.506897  0.366309  0.368955  0.368233\n",
       "3  1.361687  0.828306  0.497848  0.511623  0.363728  0.372038  0.366924\n",
       "4  1.367667  0.811987  0.498070  0.486419  0.364746  0.367988  0.368895"
      ]
     },
     "execution_count": 30,
     "metadata": {},
     "output_type": "execute_result"
    }
   ],
   "source": [
    "# threads: 2, 4, 8, 16, 32, 64, 128, 256\n",
    "df = pd.read_csv(\"./result_ext_large/avx512_scalability.csv\", header=None, \n",
    "                 names = ['2', '4', '8', '16', '32', '64', '128'])\n",
    "df.head()"
   ]
  },
  {
   "cell_type": "code",
   "execution_count": 31,
   "id": "ab8c4d9b",
   "metadata": {},
   "outputs": [
    {
     "data": {
      "image/png": "[encoded data removed]",
      "text/plain": [
       "<Figure size 504x288 with 1 Axes>"
      ]
     },
     "metadata": {
      "needs_background": "light"
     },
     "output_type": "display_data"
    }
   ],
   "source": [
    "# boxplot\n",
    "plt.figure(figsize=(7, 4))\n",
    "\n",
    "ax = df.mean().plot()\n",
    "\n",
    "# Add labels and title\n",
    "ax.set_xlabel('Number of threads', fontsize=14)\n",
    "ax.set_ylabel('Runtime(s)', fontsize=14)\n",
    "ax.set_title('Runtime Comparison (AVX512, input size 1e9)', fontsize=16)\n",
    "\n",
    "plt.xticks(fontsize=12)\n",
    "plt.yticks(fontsize=12)\n",
    "\n",
    "plt.tight_layout()\n",
    "plt.show()"
   ]
  },
  {
   "cell_type": "markdown",
   "id": "dba32225",
   "metadata": {},
   "source": [
    "### Opemp with Tiling"
   ]
  },
  {
   "cell_type": "code",
   "execution_count": 32,
   "id": "6456a6c1",
   "metadata": {},
   "outputs": [
    {
     "data": {
      "text/html": [
       "<div>\n",
       "<style scoped>\n",
       "    .dataframe tbody tr th:only-of-type {\n",
       "        vertical-align: middle;\n",
       "    }\n",
       "\n",
       "    .dataframe tbody tr th {\n",
       "        vertical-align: top;\n",
       "    }\n",
       "\n",
       "    .dataframe thead th {\n",
       "        text-align: right;\n",
       "    }\n",
       "</style>\n",
       "<table border=\"1\" class=\"dataframe\">\n",
       "  <thead>\n",
       "    <tr style=\"text-align: right;\">\n",
       "      <th></th>\n",
       "      <th>2</th>\n",
       "      <th>4</th>\n",
       "      <th>8</th>\n",
       "      <th>16</th>\n",
       "      <th>32</th>\n",
       "      <th>64</th>\n",
       "      <th>128</th>\n",
       "    </tr>\n",
       "  </thead>\n",
       "  <tbody>\n",
       "    <tr>\n",
       "      <th>0</th>\n",
       "      <td>1.518353</td>\n",
       "      <td>0.806866</td>\n",
       "      <td>0.487495</td>\n",
       "      <td>0.459019</td>\n",
       "      <td>0.329342</td>\n",
       "      <td>0.325140</td>\n",
       "      <td>0.326002</td>\n",
       "    </tr>\n",
       "    <tr>\n",
       "      <th>1</th>\n",
       "      <td>1.522858</td>\n",
       "      <td>0.806338</td>\n",
       "      <td>0.479712</td>\n",
       "      <td>0.470697</td>\n",
       "      <td>0.340883</td>\n",
       "      <td>0.328590</td>\n",
       "      <td>0.326547</td>\n",
       "    </tr>\n",
       "    <tr>\n",
       "      <th>2</th>\n",
       "      <td>1.507346</td>\n",
       "      <td>0.806404</td>\n",
       "      <td>0.476230</td>\n",
       "      <td>0.433195</td>\n",
       "      <td>0.351490</td>\n",
       "      <td>0.323381</td>\n",
       "      <td>0.325238</td>\n",
       "    </tr>\n",
       "    <tr>\n",
       "      <th>3</th>\n",
       "      <td>1.515604</td>\n",
       "      <td>0.810151</td>\n",
       "      <td>0.477400</td>\n",
       "      <td>0.421527</td>\n",
       "      <td>0.327560</td>\n",
       "      <td>0.326733</td>\n",
       "      <td>0.324035</td>\n",
       "    </tr>\n",
       "    <tr>\n",
       "      <th>4</th>\n",
       "      <td>1.509785</td>\n",
       "      <td>0.821564</td>\n",
       "      <td>0.477246</td>\n",
       "      <td>0.421226</td>\n",
       "      <td>0.329423</td>\n",
       "      <td>0.330058</td>\n",
       "      <td>0.325605</td>\n",
       "    </tr>\n",
       "  </tbody>\n",
       "</table>\n",
       "</div>"
      ],
      "text/plain": [
       "          2         4         8        16        32        64       128\n",
       "0  1.518353  0.806866  0.487495  0.459019  0.329342  0.325140  0.326002\n",
       "1  1.522858  0.806338  0.479712  0.470697  0.340883  0.328590  0.326547\n",
       "2  1.507346  0.806404  0.476230  0.433195  0.351490  0.323381  0.325238\n",
       "3  1.515604  0.810151  0.477400  0.421527  0.327560  0.326733  0.324035\n",
       "4  1.509785  0.821564  0.477246  0.421226  0.329423  0.330058  0.325605"
      ]
     },
     "execution_count": 32,
     "metadata": {},
     "output_type": "execute_result"
    }
   ],
   "source": [
    "# threads: 2, 4, 8, 16, 32, 64, 128, 256\n",
    "df = pd.read_csv(\"./result_ext_large/omp_tiling_scalability.csv\", header=None, \n",
    "                 names = ['2', '4', '8', '16', '32', '64', '128'])\n",
    "df.head()"
   ]
  },
  {
   "cell_type": "code",
   "execution_count": 115,
   "id": "07154e3f",
   "metadata": {},
   "outputs": [
    {
     "data": {
      "image/png": "[encoded data removed]",
      "text/plain": [
       "<Figure size 504x288 with 1 Axes>"
      ]
     },
     "metadata": {
      "needs_background": "light"
     },
     "output_type": "display_data"
    }
   ],
   "source": [
    "# boxplot\n",
    "plt.figure(figsize=(7, 4))\n",
    "\n",
    "ax = df.mean().plot()\n",
    "\n",
    "# Add labels and title\n",
    "ax.set_xlabel('Number of threads', fontsize=14)\n",
    "ax.set_ylabel('Runtime(s)', fontsize=14)\n",
    "ax.set_title('Runtime Comparison (OpenMP with tiling, input size 1e9)', fontsize=16)\n",
    "\n",
    "plt.xticks(fontsize=12)\n",
    "plt.yticks(fontsize=12)\n",
    "\n",
    "plt.tight_layout()\n",
    "plt.show()"
   ]
  },
  {
   "cell_type": "markdown",
   "id": "a5b72b9c",
   "metadata": {},
   "source": [
    "# Large Tensor (size 1e5)"
   ]
  },
  {
   "cell_type": "markdown",
   "id": "328a2c73",
   "metadata": {},
   "source": [
    "## Optimization Method Comparison"
   ]
  },
  {
   "cell_type": "code",
   "execution_count": 19,
   "id": "1c1a6cab",
   "metadata": {},
   "outputs": [
    {
     "data": {
      "text/html": [
       "<div>\n",
       "<style scoped>\n",
       "    .dataframe tbody tr th:only-of-type {\n",
       "        vertical-align: middle;\n",
       "    }\n",
       "\n",
       "    .dataframe tbody tr th {\n",
       "        vertical-align: top;\n",
       "    }\n",
       "\n",
       "    .dataframe thead th {\n",
       "        text-align: right;\n",
       "    }\n",
       "</style>\n",
       "<table border=\"1\" class=\"dataframe\">\n",
       "  <thead>\n",
       "    <tr style=\"text-align: right;\">\n",
       "      <th></th>\n",
       "      <th>naive</th>\n",
       "      <th>omp</th>\n",
       "      <th>omp_tiling</th>\n",
       "      <th>omp_avx</th>\n",
       "      <th>omp_avx512</th>\n",
       "      <th>omp_avx512_fused</th>\n",
       "    </tr>\n",
       "  </thead>\n",
       "  <tbody>\n",
       "    <tr>\n",
       "      <th>0</th>\n",
       "      <td>0.001912</td>\n",
       "      <td>0.000247</td>\n",
       "      <td>0.000089</td>\n",
       "      <td>0.000197</td>\n",
       "      <td>0.000101</td>\n",
       "      <td>0.000192</td>\n",
       "    </tr>\n",
       "    <tr>\n",
       "      <th>1</th>\n",
       "      <td>0.001990</td>\n",
       "      <td>0.000253</td>\n",
       "      <td>0.000090</td>\n",
       "      <td>0.000300</td>\n",
       "      <td>0.000100</td>\n",
       "      <td>0.000211</td>\n",
       "    </tr>\n",
       "    <tr>\n",
       "      <th>2</th>\n",
       "      <td>0.002038</td>\n",
       "      <td>0.000249</td>\n",
       "      <td>0.001009</td>\n",
       "      <td>0.000093</td>\n",
       "      <td>0.000107</td>\n",
       "      <td>0.000128</td>\n",
       "    </tr>\n",
       "    <tr>\n",
       "      <th>3</th>\n",
       "      <td>0.001906</td>\n",
       "      <td>0.000249</td>\n",
       "      <td>0.000088</td>\n",
       "      <td>0.000142</td>\n",
       "      <td>0.000098</td>\n",
       "      <td>0.000090</td>\n",
       "    </tr>\n",
       "    <tr>\n",
       "      <th>4</th>\n",
       "      <td>0.002047</td>\n",
       "      <td>0.000261</td>\n",
       "      <td>0.000111</td>\n",
       "      <td>0.000131</td>\n",
       "      <td>0.000100</td>\n",
       "      <td>0.000089</td>\n",
       "    </tr>\n",
       "  </tbody>\n",
       "</table>\n",
       "</div>"
      ],
      "text/plain": [
       "      naive       omp  omp_tiling   omp_avx  omp_avx512  omp_avx512_fused\n",
       "0  0.001912  0.000247    0.000089  0.000197    0.000101          0.000192\n",
       "1  0.001990  0.000253    0.000090  0.000300    0.000100          0.000211\n",
       "2  0.002038  0.000249    0.001009  0.000093    0.000107          0.000128\n",
       "3  0.001906  0.000249    0.000088  0.000142    0.000098          0.000090\n",
       "4  0.002047  0.000261    0.000111  0.000131    0.000100          0.000089"
      ]
     },
     "execution_count": 19,
     "metadata": {},
     "output_type": "execute_result"
    }
   ],
   "source": [
    "# read data\n",
    "df = pd.read_csv(\"./result_large/opt_methods.csv\", header=None, \n",
    "                 names = ['naive', 'omp', 'omp_tiling', 'omp_avx', \n",
    "                          'omp_avx512', 'omp_avx512_fused'])\n",
    "df.head()"
   ]
  },
  {
   "cell_type": "code",
   "execution_count": 20,
   "id": "a51955fe-20d1-4b44-be19-3f3e1cc82716",
   "metadata": {},
   "outputs": [
    {
     "name": "stdout",
     "output_type": "stream",
     "text": [
      "Average Runtime(s):\n"
     ]
    },
    {
     "data": {
      "text/plain": [
       "naive               0.001975\n",
       "omp                 0.000276\n",
       "omp_tiling          0.000161\n",
       "omp_avx             0.000146\n",
       "omp_avx512          0.000129\n",
       "omp_avx512_fused    0.000146\n",
       "dtype: float64"
      ]
     },
     "execution_count": 20,
     "metadata": {},
     "output_type": "execute_result"
    }
   ],
   "source": [
    "print(\"Average Runtime(s):\")\n",
    "df.mean()"
   ]
  },
  {
   "cell_type": "code",
   "execution_count": 21,
   "id": "1579f2ac-fb02-4a0c-9123-037313badf8e",
   "metadata": {},
   "outputs": [
    {
     "data": {
      "image/png": "[encoded data removed]",
      "text/plain": [
       "<Figure size 504x288 with 1 Axes>"
      ]
     },
     "metadata": {
      "needs_background": "light"
     },
     "output_type": "display_data"
    }
   ],
   "source": [
    "plt.figure(figsize=(7, 4))\n",
    "\n",
    "boxprops = dict(color='gray', facecolor='green', alpha=0.5)\n",
    "whiskerprops = dict(linestyle='--', linewidth=1.5, color='gray')\n",
    "capprops = dict(linestyle='-', linewidth=2, color='black')\n",
    "\n",
    "# Create boxplot\n",
    "ax = df.boxplot(color=dict(boxes='red', whiskers='black', medians='orange', caps='gray'), \n",
    "                boxprops=boxprops, whiskerprops=whiskerprops, capprops=capprops, patch_artist=True)\n",
    "\n",
    "# Add labels and title\n",
    "ax.set_xlabel('Optimization Methods', fontsize=14)\n",
    "ax.set_ylabel('Runtime(s)', fontsize=14)\n",
    "ax.set_title('Runtime Comparison (32 threads, input size 1e5)', fontsize=16)\n",
    "\n",
    "plt.xticks(fontsize=12, rotation=8)\n",
    "plt.yticks(fontsize=12)\n",
    "\n",
    "plt.tight_layout()\n",
    "plt.show()\n",
    "# scatter average point"
   ]
  },
  {
   "cell_type": "code",
   "execution_count": 24,
   "id": "995c1ab5-0d2e-408c-9607-3daf293f0270",
   "metadata": {},
   "outputs": [
    {
     "data": {
      "text/plain": [
       "omp                  7.508741\n",
       "omp_tiling          18.397665\n",
       "omp_avx             16.346238\n",
       "omp_avx512          17.698489\n",
       "omp_avx512_fused    15.869195\n",
       "dtype: float64"
      ]
     },
     "execution_count": 24,
     "metadata": {},
     "output_type": "execute_result"
    }
   ],
   "source": [
    "df_speedup = df[df.columns[1:]].apply(lambda x: df.iloc[:, 0] / x)\n",
    "df_speedup.mean()"
   ]
  },
  {
   "cell_type": "code",
   "execution_count": 23,
   "id": "b2144181-73ce-44cd-a455-b09e42d0f41e",
   "metadata": {},
   "outputs": [
    {
     "data": {
      "image/png": "[encoded data removed]",
      "text/plain": [
       "<Figure size 504x288 with 1 Axes>"
      ]
     },
     "metadata": {
      "needs_background": "light"
     },
     "output_type": "display_data"
    }
   ],
   "source": [
    "plt.figure(figsize=(7, 4))\n",
    "\n",
    "boxprops = dict(color='gray', facecolor='green', alpha=0.5)\n",
    "whiskerprops = dict(linestyle='--', linewidth=1.5, color='gray')\n",
    "capprops = dict(linestyle='-', linewidth=2, color='black')\n",
    "\n",
    "ax = df_speedup.boxplot(color=dict(boxes='red', whiskers='black', medians='orange', caps='gray'), \n",
    "                boxprops=boxprops, whiskerprops=whiskerprops, capprops=capprops, patch_artist=True)\n",
    "\n",
    "ax.set_xlabel('Optimization Methods', fontsize=14)\n",
    "ax.set_ylabel('Speedup(x)', fontsize=14)\n",
    "ax.set_title('Speedup Comparison (32 threads, input size 1e9)', fontsize=16)\n",
    "\n",
    "plt.xticks(fontsize=12, rotation=8)\n",
    "plt.yticks(fontsize=12)\n",
    "\n",
    "plt.tight_layout()\n",
    "plt.show()\n",
    "\n",
    "\n",
    "# scatter average point"
   ]
  },
  {
   "cell_type": "markdown",
   "id": "4c741737-59e1-4646-ba32-0df5af700674",
   "metadata": {},
   "source": [
    "## Scalability"
   ]
  },
  {
   "cell_type": "markdown",
   "id": "57ab9abf-3947-42d4-9aa6-4f789de30e30",
   "metadata": {},
   "source": [
    "### AVX512"
   ]
  },
  {
   "cell_type": "code",
   "execution_count": 10,
   "id": "2ea30f04-d7a1-4606-84fb-90d06583ab74",
   "metadata": {},
   "outputs": [
    {
     "data": {
      "text/html": [
       "<div>\n",
       "<style scoped>\n",
       "    .dataframe tbody tr th:only-of-type {\n",
       "        vertical-align: middle;\n",
       "    }\n",
       "\n",
       "    .dataframe tbody tr th {\n",
       "        vertical-align: top;\n",
       "    }\n",
       "\n",
       "    .dataframe thead th {\n",
       "        text-align: right;\n",
       "    }\n",
       "</style>\n",
       "<table border=\"1\" class=\"dataframe\">\n",
       "  <thead>\n",
       "    <tr style=\"text-align: right;\">\n",
       "      <th></th>\n",
       "      <th>2</th>\n",
       "      <th>4</th>\n",
       "      <th>8</th>\n",
       "      <th>16</th>\n",
       "      <th>32</th>\n",
       "      <th>64</th>\n",
       "      <th>128</th>\n",
       "    </tr>\n",
       "  </thead>\n",
       "  <tbody>\n",
       "    <tr>\n",
       "      <th>0</th>\n",
       "      <td>0.000613</td>\n",
       "      <td>0.000547</td>\n",
       "      <td>0.000229</td>\n",
       "      <td>0.000283</td>\n",
       "      <td>0.000446</td>\n",
       "      <td>0.001721</td>\n",
       "      <td>0.003756</td>\n",
       "    </tr>\n",
       "    <tr>\n",
       "      <th>1</th>\n",
       "      <td>0.000631</td>\n",
       "      <td>0.000576</td>\n",
       "      <td>0.000254</td>\n",
       "      <td>0.000376</td>\n",
       "      <td>0.000741</td>\n",
       "      <td>0.001823</td>\n",
       "      <td>0.001974</td>\n",
       "    </tr>\n",
       "    <tr>\n",
       "      <th>2</th>\n",
       "      <td>0.000608</td>\n",
       "      <td>0.000334</td>\n",
       "      <td>0.000344</td>\n",
       "      <td>0.000612</td>\n",
       "      <td>0.000716</td>\n",
       "      <td>0.002261</td>\n",
       "      <td>0.002775</td>\n",
       "    </tr>\n",
       "    <tr>\n",
       "      <th>3</th>\n",
       "      <td>0.000618</td>\n",
       "      <td>0.000624</td>\n",
       "      <td>0.000244</td>\n",
       "      <td>0.000331</td>\n",
       "      <td>0.000434</td>\n",
       "      <td>0.005740</td>\n",
       "      <td>0.003570</td>\n",
       "    </tr>\n",
       "    <tr>\n",
       "      <th>4</th>\n",
       "      <td>0.000648</td>\n",
       "      <td>0.000667</td>\n",
       "      <td>0.000428</td>\n",
       "      <td>0.000624</td>\n",
       "      <td>0.001039</td>\n",
       "      <td>0.003334</td>\n",
       "      <td>0.003428</td>\n",
       "    </tr>\n",
       "  </tbody>\n",
       "</table>\n",
       "</div>"
      ],
      "text/plain": [
       "          2         4         8        16        32        64       128\n",
       "0  0.000613  0.000547  0.000229  0.000283  0.000446  0.001721  0.003756\n",
       "1  0.000631  0.000576  0.000254  0.000376  0.000741  0.001823  0.001974\n",
       "2  0.000608  0.000334  0.000344  0.000612  0.000716  0.002261  0.002775\n",
       "3  0.000618  0.000624  0.000244  0.000331  0.000434  0.005740  0.003570\n",
       "4  0.000648  0.000667  0.000428  0.000624  0.001039  0.003334  0.003428"
      ]
     },
     "execution_count": 10,
     "metadata": {},
     "output_type": "execute_result"
    }
   ],
   "source": [
    "# threads: 2, 4, 8, 16, 32, 64, 128, 256\n",
    "df = pd.read_csv(\"./result_large/avx512_scalability.csv\", header=None, \n",
    "                 names = ['2', '4', '8', '16', '32', '64', '128'])\n",
    "df.head()"
   ]
  },
  {
   "cell_type": "code",
   "execution_count": 12,
   "id": "8852d50d-9873-4ec4-9b19-2d5f103c9a12",
   "metadata": {},
   "outputs": [
    {
     "data": {
      "image/png": "[encoded data removed]",
      "text/plain": [
       "<Figure size 504x288 with 1 Axes>"
      ]
     },
     "metadata": {
      "needs_background": "light"
     },
     "output_type": "display_data"
    }
   ],
   "source": [
    "# boxplot\n",
    "plt.figure(figsize=(7, 4))\n",
    "\n",
    "ax = df.mean().plot()\n",
    "\n",
    "# Add labels and title\n",
    "ax.set_xlabel('Number of threads', fontsize=14)\n",
    "ax.set_ylabel('Runtime(s)', fontsize=14)\n",
    "ax.set_title('Runtime Comparison (AVX512, input size 1e5)', fontsize=16)\n",
    "\n",
    "plt.xticks(fontsize=12)\n",
    "plt.yticks(fontsize=12)\n",
    "\n",
    "plt.tight_layout()\n",
    "plt.show()"
   ]
  },
  {
   "cell_type": "markdown",
   "id": "c86f4a75-8b8a-4b8f-85d3-48becdc45a17",
   "metadata": {},
   "source": [
    "### Opemp with Tiling"
   ]
  },
  {
   "cell_type": "code",
   "execution_count": 13,
   "id": "0139473a-cc5d-4b3e-9a31-c3bc1bb721a2",
   "metadata": {},
   "outputs": [
    {
     "data": {
      "text/html": [
       "<div>\n",
       "<style scoped>\n",
       "    .dataframe tbody tr th:only-of-type {\n",
       "        vertical-align: middle;\n",
       "    }\n",
       "\n",
       "    .dataframe tbody tr th {\n",
       "        vertical-align: top;\n",
       "    }\n",
       "\n",
       "    .dataframe thead th {\n",
       "        text-align: right;\n",
       "    }\n",
       "</style>\n",
       "<table border=\"1\" class=\"dataframe\">\n",
       "  <thead>\n",
       "    <tr style=\"text-align: right;\">\n",
       "      <th></th>\n",
       "      <th>2</th>\n",
       "      <th>4</th>\n",
       "      <th>8</th>\n",
       "      <th>16</th>\n",
       "      <th>32</th>\n",
       "      <th>64</th>\n",
       "      <th>128</th>\n",
       "    </tr>\n",
       "  </thead>\n",
       "  <tbody>\n",
       "    <tr>\n",
       "      <th>0</th>\n",
       "      <td>0.001204</td>\n",
       "      <td>0.006772</td>\n",
       "      <td>0.000208</td>\n",
       "      <td>0.000382</td>\n",
       "      <td>0.000436</td>\n",
       "      <td>0.006781</td>\n",
       "      <td>0.003725</td>\n",
       "    </tr>\n",
       "    <tr>\n",
       "      <th>1</th>\n",
       "      <td>0.001711</td>\n",
       "      <td>0.005680</td>\n",
       "      <td>0.000389</td>\n",
       "      <td>0.000589</td>\n",
       "      <td>0.000897</td>\n",
       "      <td>0.011571</td>\n",
       "      <td>0.003272</td>\n",
       "    </tr>\n",
       "    <tr>\n",
       "      <th>2</th>\n",
       "      <td>0.001475</td>\n",
       "      <td>0.000381</td>\n",
       "      <td>0.004605</td>\n",
       "      <td>0.000511</td>\n",
       "      <td>0.000917</td>\n",
       "      <td>0.010932</td>\n",
       "      <td>0.002882</td>\n",
       "    </tr>\n",
       "    <tr>\n",
       "      <th>3</th>\n",
       "      <td>0.001467</td>\n",
       "      <td>0.016329</td>\n",
       "      <td>0.000392</td>\n",
       "      <td>0.000482</td>\n",
       "      <td>0.000717</td>\n",
       "      <td>0.002847</td>\n",
       "      <td>0.003639</td>\n",
       "    </tr>\n",
       "    <tr>\n",
       "      <th>4</th>\n",
       "      <td>0.001142</td>\n",
       "      <td>0.010869</td>\n",
       "      <td>0.000381</td>\n",
       "      <td>0.000566</td>\n",
       "      <td>0.000926</td>\n",
       "      <td>0.003265</td>\n",
       "      <td>0.003898</td>\n",
       "    </tr>\n",
       "  </tbody>\n",
       "</table>\n",
       "</div>"
      ],
      "text/plain": [
       "          2         4         8        16        32        64       128\n",
       "0  0.001204  0.006772  0.000208  0.000382  0.000436  0.006781  0.003725\n",
       "1  0.001711  0.005680  0.000389  0.000589  0.000897  0.011571  0.003272\n",
       "2  0.001475  0.000381  0.004605  0.000511  0.000917  0.010932  0.002882\n",
       "3  0.001467  0.016329  0.000392  0.000482  0.000717  0.002847  0.003639\n",
       "4  0.001142  0.010869  0.000381  0.000566  0.000926  0.003265  0.003898"
      ]
     },
     "execution_count": 13,
     "metadata": {},
     "output_type": "execute_result"
    }
   ],
   "source": [
    "# threads: 2, 4, 8, 16, 32, 64, 128, 256\n",
    "df = pd.read_csv(\"./result_large/omp_tiling_scalability.csv\", header=None, \n",
    "                 names = ['2', '4', '8', '16', '32', '64', '128'])\n",
    "df.head()"
   ]
  },
  {
   "cell_type": "code",
   "execution_count": 17,
   "id": "e9ca4cde-c7bf-4b3d-8b77-2b62254dc279",
   "metadata": {},
   "outputs": [
    {
     "data": {
      "image/png": "[encoded data removed]",
      "text/plain": [
       "<Figure size 504x288 with 1 Axes>"
      ]
     },
     "metadata": {
      "needs_background": "light"
     },
     "output_type": "display_data"
    }
   ],
   "source": [
    "# boxplot\n",
    "plt.figure(figsize=(7, 4))\n",
    "\n",
    "ax = df.mean().plot()\n",
    "\n",
    "# Add labels and title\n",
    "ax.set_xlabel('Number of threads', fontsize=14)\n",
    "ax.set_ylabel('Runtime(s)', fontsize=14)\n",
    "ax.set_title('Runtime Comparison (OpenMP with tiling, input size 1e5)', fontsize=16)\n",
    "\n",
    "plt.xticks(fontsize=12)\n",
    "plt.yticks(fontsize=12)\n",
    "\n",
    "plt.tight_layout()\n",
    "plt.show()"
   ]
  },
  {
   "cell_type": "code",
   "execution_count": null,
   "id": "1a063769-30a3-4e9d-a5a4-322be83b07d8",
   "metadata": {},
   "outputs": [],
   "source": []
  }
 ],
 "metadata": {
  "kernelspec": {
   "display_name": "Python 3 (ipykernel)",
   "language": "python",
   "name": "python3"
  },
  "language_info": {
   "codemirror_mode": {
    "name": "ipython",
    "version": 3
   },
   "file_extension": ".py",
   "mimetype": "text/x-python",
   "name": "python",
   "nbconvert_exporter": "python",
   "pygments_lexer": "ipython3",
   "version": "3.9.12"
  }
 },
 "nbformat": 4,
 "nbformat_minor": 5
}
