{
 "cells": [
  {
   "cell_type": "code",
   "execution_count": 103,
   "id": "220539c5-6912-4bf7-acf6-90a63479c45a",
   "metadata": {},
   "outputs": [],
   "source": [
    "import matplotlib.pyplot as plt\n",
    "import pandas as pd\n",
    "import numpy as np"
   ]
  },
  {
   "attachments": {},
   "cell_type": "markdown",
   "id": "da0875ad",
   "metadata": {},
   "source": [
    "# Correctness Test\n",
    "from https://github.com/onnx/onnx/blob/main/docs/Operators.md#DynamicQuantizeLinear"
   ]
  },
  {
   "cell_type": "code",
   "execution_count": 104,
   "id": "b8fd1685",
   "metadata": {},
   "outputs": [
    {
     "name": "stdout",
     "output_type": "stream",
     "text": [
      "Y_Scale:  0.019607844 , Y_ZeroPoint:  153\n",
      "Y:  [153 255   0  26 221 179]\n"
     ]
    }
   ],
   "source": [
    "# Test Case 1\n",
    "X = np.array([0, 2, -3, -2.5, 1.34, 0.5]).astype(np.float32)\n",
    "x_min = np.minimum(0, np.min(X))\n",
    "x_max = np.maximum(0, np.max(X))\n",
    "Y_Scale = np.float32((x_max - x_min) / (255 - 0))  # uint8 -> [0, 255]\n",
    "Y_ZeroPoint = np.clip(round((0 - x_min) / Y_Scale), 0, 255).astype(np.uint8)\n",
    "Y = np.clip(np.round(X / Y_Scale) + Y_ZeroPoint, 0, 255).astype(np.uint8)\n",
    "\n",
    "print(\"Y_Scale: \", Y_Scale, \", Y_ZeroPoint: \", Y_ZeroPoint)\n",
    "print(\"Y: \", Y)"
   ]
  },
  {
   "cell_type": "code",
   "execution_count": 105,
   "id": "b67725cc",
   "metadata": {},
   "outputs": [
    {
     "name": "stdout",
     "output_type": "stream",
     "text": [
      "Y_Scale:  0.015686275 , Y_ZeroPoint:  255\n",
      "Y:  [191 121 172  96  42   0]\n"
     ]
    }
   ],
   "source": [
    "# Test Case 2\n",
    "X = np.array([-1.0, -2.1, -1.3, -2.5, -3.34, -4.0]).astype(np.float32)\n",
    "x_min = np.minimum(0, np.min(X))\n",
    "x_max = np.maximum(0, np.max(X))\n",
    "Y_Scale = np.float32((x_max - x_min) / (255 - 0))  # uint8 -> [0, 255]\n",
    "Y_ZeroPoint = np.clip(round((0 - x_min) / Y_Scale), 0, 255).astype(np.uint8)\n",
    "Y = np.clip(np.round(X / Y_Scale) + Y_ZeroPoint, 0, 255).astype(np.uint8)\n",
    "\n",
    "print(\"Y_Scale: \", Y_Scale, \", Y_ZeroPoint: \", Y_ZeroPoint)\n",
    "print(\"Y: \", Y)"
   ]
  },
  {
   "cell_type": "code",
   "execution_count": 106,
   "id": "b6dae284",
   "metadata": {},
   "outputs": [
    {
     "name": "stdout",
     "output_type": "stream",
     "text": [
      "Y_Scale:  0.015686275 , Y_ZeroPoint:  0\n",
      "Y:  [[ 64 134  83 159]\n",
      " [213 255  96 166]\n",
      " [249 255 191 149]]\n"
     ]
    }
   ],
   "source": [
    "# Test Case 3\n",
    "X = (\n",
    "    np.array([1, 2.1, 1.3, 2.5, 3.34, 4.0, 1.5, 2.6, 3.9, 4.0, 3.0, 2.345])\n",
    "    .astype(np.float32)\n",
    "    .reshape((3, 4))\n",
    ")\n",
    "\n",
    "# expected scale 0.0156862754 and zero point 0\n",
    "x_min = np.minimum(0, np.min(X))\n",
    "x_max = np.maximum(0, np.max(X))\n",
    "Y_Scale = np.float32((x_max - x_min) / (255 - 0))  # uint8 -> [0, 255]\n",
    "Y_ZeroPoint = np.clip(round((0 - x_min) / Y_Scale), 0, 255).astype(np.uint8)\n",
    "Y = np.clip(np.round(X / Y_Scale) + Y_ZeroPoint, 0, 255).astype(np.uint8)\n",
    "\n",
    "print(\"Y_Scale: \", Y_Scale, \", Y_ZeroPoint: \", Y_ZeroPoint)\n",
    "print(\"Y: \", Y)"
   ]
  },
  {
   "cell_type": "markdown",
   "id": "d14dca21-1afa-4927-ab8d-039c42c76102",
   "metadata": {},
   "source": [
    "## Optimization Method Comparision"
   ]
  },
  {
   "cell_type": "code",
   "execution_count": 107,
   "id": "97998ecc",
   "metadata": {},
   "outputs": [
    {
     "data": {
      "text/html": [
       "<div>\n",
       "<style scoped>\n",
       "    .dataframe tbody tr th:only-of-type {\n",
       "        vertical-align: middle;\n",
       "    }\n",
       "\n",
       "    .dataframe tbody tr th {\n",
       "        vertical-align: top;\n",
       "    }\n",
       "\n",
       "    .dataframe thead th {\n",
       "        text-align: right;\n",
       "    }\n",
       "</style>\n",
       "<table border=\"1\" class=\"dataframe\">\n",
       "  <thead>\n",
       "    <tr style=\"text-align: right;\">\n",
       "      <th></th>\n",
       "      <th>naive</th>\n",
       "      <th>omp</th>\n",
       "      <th>omp_tiling</th>\n",
       "      <th>omp_avx</th>\n",
       "      <th>omp_avx512</th>\n",
       "      <th>omp_avx512_fused</th>\n",
       "    </tr>\n",
       "  </thead>\n",
       "  <tbody>\n",
       "    <tr>\n",
       "      <th>0</th>\n",
       "      <td>11.818968</td>\n",
       "      <td>0.758507</td>\n",
       "      <td>0.414166</td>\n",
       "      <td>0.411803</td>\n",
       "      <td>0.393806</td>\n",
       "      <td>0.413675</td>\n",
       "    </tr>\n",
       "    <tr>\n",
       "      <th>1</th>\n",
       "      <td>11.823091</td>\n",
       "      <td>0.710832</td>\n",
       "      <td>0.399412</td>\n",
       "      <td>0.426633</td>\n",
       "      <td>0.433593</td>\n",
       "      <td>0.418179</td>\n",
       "    </tr>\n",
       "    <tr>\n",
       "      <th>2</th>\n",
       "      <td>11.743319</td>\n",
       "      <td>0.845069</td>\n",
       "      <td>0.396605</td>\n",
       "      <td>0.436996</td>\n",
       "      <td>0.406798</td>\n",
       "      <td>0.408527</td>\n",
       "    </tr>\n",
       "    <tr>\n",
       "      <th>3</th>\n",
       "      <td>11.736955</td>\n",
       "      <td>0.809325</td>\n",
       "      <td>0.388726</td>\n",
       "      <td>0.420258</td>\n",
       "      <td>0.397766</td>\n",
       "      <td>0.432956</td>\n",
       "    </tr>\n",
       "    <tr>\n",
       "      <th>4</th>\n",
       "      <td>11.664398</td>\n",
       "      <td>0.661619</td>\n",
       "      <td>0.396161</td>\n",
       "      <td>0.420908</td>\n",
       "      <td>0.397771</td>\n",
       "      <td>0.395203</td>\n",
       "    </tr>\n",
       "  </tbody>\n",
       "</table>\n",
       "</div>"
      ],
      "text/plain": [
       "       naive       omp  omp_tiling   omp_avx  omp_avx512  omp_avx512_fused\n",
       "0  11.818968  0.758507    0.414166  0.411803    0.393806          0.413675\n",
       "1  11.823091  0.710832    0.399412  0.426633    0.433593          0.418179\n",
       "2  11.743319  0.845069    0.396605  0.436996    0.406798          0.408527\n",
       "3  11.736955  0.809325    0.388726  0.420258    0.397766          0.432956\n",
       "4  11.664398  0.661619    0.396161  0.420908    0.397771          0.395203"
      ]
     },
     "execution_count": 107,
     "metadata": {},
     "output_type": "execute_result"
    }
   ],
   "source": [
    "# read data\n",
    "df = pd.read_csv(\"./result_ext_large/opt_methods.csv\", header=None, \n",
    "                 names = ['naive', 'omp', 'omp_tiling', 'omp_avx', \n",
    "                          'omp_avx512', 'omp_avx512_fused'])\n",
    "df.head()"
   ]
  },
  {
   "cell_type": "code",
   "execution_count": 108,
   "id": "362efded",
   "metadata": {},
   "outputs": [
    {
     "name": "stdout",
     "output_type": "stream",
     "text": [
      "Average Runtime(s):\n"
     ]
    },
    {
     "data": {
      "text/plain": [
       "naive               11.765350\n",
       "omp                  0.767582\n",
       "omp_tiling           0.399441\n",
       "omp_avx              0.413852\n",
       "omp_avx512           0.394057\n",
       "omp_avx512_fused     0.407124\n",
       "dtype: float64"
      ]
     },
     "execution_count": 108,
     "metadata": {},
     "output_type": "execute_result"
    }
   ],
   "source": [
    "print(\"Average Runtime(s):\")\n",
    "df.mean()"
   ]
  },
  {
   "cell_type": "code",
   "execution_count": 109,
   "id": "babf90e2",
   "metadata": {},
   "outputs": [
    {
     "data": {
      "image/png": "[encoded data removed]",
      "text/plain": [
       "<Figure size 504x288 with 1 Axes>"
      ]
     },
     "metadata": {
      "needs_background": "light"
     },
     "output_type": "display_data"
    }
   ],
   "source": [
    "plt.figure(figsize=(7, 4))\n",
    "\n",
    "boxprops = dict(color='gray', facecolor='green', alpha=0.5)\n",
    "whiskerprops = dict(linestyle='--', linewidth=1.5, color='gray')\n",
    "capprops = dict(linestyle='-', linewidth=2, color='black')\n",
    "\n",
    "# Create boxplot\n",
    "ax = df.boxplot(color=dict(boxes='red', whiskers='black', medians='orange', caps='gray'), \n",
    "                boxprops=boxprops, whiskerprops=whiskerprops, capprops=capprops, patch_artist=True)\n",
    "\n",
    "# Add labels and title\n",
    "ax.set_xlabel('Optimization Methods', fontsize=14)\n",
    "ax.set_ylabel('Runtime(s)', fontsize=14)\n",
    "ax.set_title('Runtime Comparison (32 threads, input size 1e9)', fontsize=16)\n",
    "\n",
    "plt.xticks(fontsize=12, rotation=8)\n",
    "plt.yticks(fontsize=12)\n",
    "\n",
    "plt.tight_layout()\n",
    "plt.show()\n",
    "# scatter average point"
   ]
  },
  {
   "cell_type": "code",
   "execution_count": 110,
   "id": "8897c284",
   "metadata": {},
   "outputs": [
    {
     "data": {
      "text/plain": [
       "omp                 15.416424\n",
       "omp_tiling          29.506479\n",
       "omp_avx             28.473798\n",
       "omp_avx512          29.976834\n",
       "omp_avx512_fused    28.990142\n",
       "dtype: float64"
      ]
     },
     "execution_count": 110,
     "metadata": {},
     "output_type": "execute_result"
    }
   ],
   "source": [
    "df_speedup = df[df.columns[1:]].apply(lambda x: df.iloc[:, 0] / x)\n",
    "df_speedup.mean()"
   ]
  },
  {
   "cell_type": "code",
   "execution_count": 111,
   "id": "cefb7e90",
   "metadata": {},
   "outputs": [
    {
     "data": {
      "image/png": "[encoded data removed]",
      "text/plain": [
       "<Figure size 504x288 with 1 Axes>"
      ]
     },
     "metadata": {
      "needs_background": "light"
     },
     "output_type": "display_data"
    }
   ],
   "source": [
    "plt.figure(figsize=(7, 4))\n",
    "\n",
    "boxprops = dict(color='gray', facecolor='green', alpha=0.5)\n",
    "whiskerprops = dict(linestyle='--', linewidth=1.5, color='gray')\n",
    "capprops = dict(linestyle='-', linewidth=2, color='black')\n",
    "\n",
    "ax = df_speedup.boxplot(color=dict(boxes='red', whiskers='black', medians='orange', caps='gray'), \n",
    "                boxprops=boxprops, whiskerprops=whiskerprops, capprops=capprops, patch_artist=True)\n",
    "\n",
    "ax.set_xlabel('Optimization Methods', fontsize=14)\n",
    "ax.set_ylabel('Speedup(x)', fontsize=14)\n",
    "ax.set_title('Speedup Comparison (32 threads, input size 1e9)', fontsize=16)\n",
    "\n",
    "plt.xticks(fontsize=12, rotation=8)\n",
    "plt.yticks(fontsize=12)\n",
    "\n",
    "plt.tight_layout()\n",
    "plt.show()\n",
    "\n",
    "\n",
    "# scatter average point"
   ]
  },
  {
   "attachments": {},
   "cell_type": "markdown",
   "id": "0ce5601d-15e7-4175-9a0a-11e418f5ebbe",
   "metadata": {},
   "source": [
    "## Scalability"
   ]
  },
  {
   "attachments": {},
   "cell_type": "markdown",
   "id": "e899c646",
   "metadata": {},
   "source": [
    "## AVX512"
   ]
  },
  {
   "cell_type": "code",
   "execution_count": 112,
   "id": "418213c2-eada-4eba-984f-75743f35f1da",
   "metadata": {},
   "outputs": [
    {
     "data": {
      "text/html": [
       "<div>\n",
       "<style scoped>\n",
       "    .dataframe tbody tr th:only-of-type {\n",
       "        vertical-align: middle;\n",
       "    }\n",
       "\n",
       "    .dataframe tbody tr th {\n",
       "        vertical-align: top;\n",
       "    }\n",
       "\n",
       "    .dataframe thead th {\n",
       "        text-align: right;\n",
       "    }\n",
       "</style>\n",
       "<table border=\"1\" class=\"dataframe\">\n",
       "  <thead>\n",
       "    <tr style=\"text-align: right;\">\n",
       "      <th></th>\n",
       "      <th>2</th>\n",
       "      <th>4</th>\n",
       "      <th>8</th>\n",
       "      <th>16</th>\n",
       "      <th>32</th>\n",
       "      <th>64</th>\n",
       "      <th>128</th>\n",
       "    </tr>\n",
       "  </thead>\n",
       "  <tbody>\n",
       "    <tr>\n",
       "      <th>0</th>\n",
       "      <td>1.412199</td>\n",
       "      <td>0.817596</td>\n",
       "      <td>0.647442</td>\n",
       "      <td>0.438977</td>\n",
       "      <td>0.406309</td>\n",
       "      <td>0.377570</td>\n",
       "      <td>0.372288</td>\n",
       "    </tr>\n",
       "    <tr>\n",
       "      <th>1</th>\n",
       "      <td>1.418621</td>\n",
       "      <td>0.870596</td>\n",
       "      <td>0.498321</td>\n",
       "      <td>0.510082</td>\n",
       "      <td>0.415004</td>\n",
       "      <td>0.377129</td>\n",
       "      <td>0.372961</td>\n",
       "    </tr>\n",
       "    <tr>\n",
       "      <th>2</th>\n",
       "      <td>1.421759</td>\n",
       "      <td>0.899798</td>\n",
       "      <td>0.573388</td>\n",
       "      <td>0.500191</td>\n",
       "      <td>0.421187</td>\n",
       "      <td>0.372262</td>\n",
       "      <td>0.373278</td>\n",
       "    </tr>\n",
       "    <tr>\n",
       "      <th>3</th>\n",
       "      <td>1.405221</td>\n",
       "      <td>0.815319</td>\n",
       "      <td>0.569090</td>\n",
       "      <td>0.501956</td>\n",
       "      <td>0.426928</td>\n",
       "      <td>0.379570</td>\n",
       "      <td>0.369724</td>\n",
       "    </tr>\n",
       "    <tr>\n",
       "      <th>4</th>\n",
       "      <td>1.417692</td>\n",
       "      <td>0.820973</td>\n",
       "      <td>0.503489</td>\n",
       "      <td>0.528024</td>\n",
       "      <td>0.414924</td>\n",
       "      <td>0.376875</td>\n",
       "      <td>0.372726</td>\n",
       "    </tr>\n",
       "  </tbody>\n",
       "</table>\n",
       "</div>"
      ],
      "text/plain": [
       "          2         4         8        16        32        64       128\n",
       "0  1.412199  0.817596  0.647442  0.438977  0.406309  0.377570  0.372288\n",
       "1  1.418621  0.870596  0.498321  0.510082  0.415004  0.377129  0.372961\n",
       "2  1.421759  0.899798  0.573388  0.500191  0.421187  0.372262  0.373278\n",
       "3  1.405221  0.815319  0.569090  0.501956  0.426928  0.379570  0.369724\n",
       "4  1.417692  0.820973  0.503489  0.528024  0.414924  0.376875  0.372726"
      ]
     },
     "execution_count": 112,
     "metadata": {},
     "output_type": "execute_result"
    }
   ],
   "source": [
    "# threads: 2, 4, 8, 16, 32, 64, 128, 256\n",
    "df = pd.read_csv(\"./result_ext_large/avx512_scalability.csv\", header=None, \n",
    "                 names = ['2', '4', '8', '16', '32', '64', '128'])\n",
    "df.head()"
   ]
  },
  {
   "cell_type": "code",
   "execution_count": 113,
   "id": "ab8c4d9b",
   "metadata": {},
   "outputs": [
    {
     "data": {
      "image/png": "[encoded data removed]",
      "text/plain": [
       "<Figure size 504x288 with 1 Axes>"
      ]
     },
     "metadata": {
      "needs_background": "light"
     },
     "output_type": "display_data"
    }
   ],
   "source": [
    "# boxplot\n",
    "plt.figure(figsize=(7, 4))\n",
    "\n",
    "ax = df.mean().plot()\n",
    "\n",
    "# Add labels and title\n",
    "ax.set_xlabel('Number of threads', fontsize=14)\n",
    "ax.set_ylabel('Runtime(s)', fontsize=14)\n",
    "ax.set_title('Runtime Comparison (AVX512, input size 1e9)', fontsize=16)\n",
    "\n",
    "plt.xticks(fontsize=12)\n",
    "plt.yticks(fontsize=12)\n",
    "\n",
    "plt.tight_layout()\n",
    "plt.show()"
   ]
  },
  {
   "attachments": {},
   "cell_type": "markdown",
   "id": "dba32225",
   "metadata": {},
   "source": [
    "## Opemp with Tiling"
   ]
  },
  {
   "cell_type": "code",
   "execution_count": 114,
   "id": "6456a6c1",
   "metadata": {},
   "outputs": [
    {
     "data": {
      "text/html": [
       "<div>\n",
       "<style scoped>\n",
       "    .dataframe tbody tr th:only-of-type {\n",
       "        vertical-align: middle;\n",
       "    }\n",
       "\n",
       "    .dataframe tbody tr th {\n",
       "        vertical-align: top;\n",
       "    }\n",
       "\n",
       "    .dataframe thead th {\n",
       "        text-align: right;\n",
       "    }\n",
       "</style>\n",
       "<table border=\"1\" class=\"dataframe\">\n",
       "  <thead>\n",
       "    <tr style=\"text-align: right;\">\n",
       "      <th></th>\n",
       "      <th>2</th>\n",
       "      <th>4</th>\n",
       "      <th>8</th>\n",
       "      <th>16</th>\n",
       "      <th>32</th>\n",
       "      <th>64</th>\n",
       "      <th>128</th>\n",
       "    </tr>\n",
       "  </thead>\n",
       "  <tbody>\n",
       "    <tr>\n",
       "      <th>0</th>\n",
       "      <td>1.569602</td>\n",
       "      <td>0.818228</td>\n",
       "      <td>0.781752</td>\n",
       "      <td>0.504065</td>\n",
       "      <td>0.413219</td>\n",
       "      <td>0.372674</td>\n",
       "      <td>0.371460</td>\n",
       "    </tr>\n",
       "    <tr>\n",
       "      <th>1</th>\n",
       "      <td>1.570207</td>\n",
       "      <td>0.821470</td>\n",
       "      <td>0.578799</td>\n",
       "      <td>0.464714</td>\n",
       "      <td>0.433358</td>\n",
       "      <td>0.383001</td>\n",
       "      <td>0.375212</td>\n",
       "    </tr>\n",
       "    <tr>\n",
       "      <th>2</th>\n",
       "      <td>1.578611</td>\n",
       "      <td>0.828706</td>\n",
       "      <td>0.520988</td>\n",
       "      <td>0.514929</td>\n",
       "      <td>0.416381</td>\n",
       "      <td>0.378861</td>\n",
       "      <td>0.376796</td>\n",
       "    </tr>\n",
       "    <tr>\n",
       "      <th>3</th>\n",
       "      <td>1.576746</td>\n",
       "      <td>0.820818</td>\n",
       "      <td>0.723037</td>\n",
       "      <td>0.516862</td>\n",
       "      <td>0.414256</td>\n",
       "      <td>0.375386</td>\n",
       "      <td>0.374629</td>\n",
       "    </tr>\n",
       "    <tr>\n",
       "      <th>4</th>\n",
       "      <td>1.566247</td>\n",
       "      <td>0.820999</td>\n",
       "      <td>0.497212</td>\n",
       "      <td>0.497740</td>\n",
       "      <td>0.413155</td>\n",
       "      <td>0.372934</td>\n",
       "      <td>0.372444</td>\n",
       "    </tr>\n",
       "  </tbody>\n",
       "</table>\n",
       "</div>"
      ],
      "text/plain": [
       "          2         4         8        16        32        64       128\n",
       "0  1.569602  0.818228  0.781752  0.504065  0.413219  0.372674  0.371460\n",
       "1  1.570207  0.821470  0.578799  0.464714  0.433358  0.383001  0.375212\n",
       "2  1.578611  0.828706  0.520988  0.514929  0.416381  0.378861  0.376796\n",
       "3  1.576746  0.820818  0.723037  0.516862  0.414256  0.375386  0.374629\n",
       "4  1.566247  0.820999  0.497212  0.497740  0.413155  0.372934  0.372444"
      ]
     },
     "execution_count": 114,
     "metadata": {},
     "output_type": "execute_result"
    }
   ],
   "source": [
    "# threads: 2, 4, 8, 16, 32, 64, 128, 256\n",
    "df = pd.read_csv(\"./result_ext_large/omp_tiling_scalability.csv\", header=None, \n",
    "                 names = ['2', '4', '8', '16', '32', '64', '128'])\n",
    "df.head()"
   ]
  },
  {
   "cell_type": "code",
   "execution_count": 115,
   "id": "07154e3f",
   "metadata": {},
   "outputs": [
    {
     "data": {
      "image/png": "[encoded data removed]",
      "text/plain": [
       "<Figure size 504x288 with 1 Axes>"
      ]
     },
     "metadata": {
      "needs_background": "light"
     },
     "output_type": "display_data"
    }
   ],
   "source": [
    "# boxplot\n",
    "plt.figure(figsize=(7, 4))\n",
    "\n",
    "ax = df.mean().plot()\n",
    "\n",
    "# Add labels and title\n",
    "ax.set_xlabel('Number of threads', fontsize=14)\n",
    "ax.set_ylabel('Runtime(s)', fontsize=14)\n",
    "ax.set_title('Runtime Comparison (OpenMP with tiling, input size 1e9)', fontsize=16)\n",
    "\n",
    "plt.xticks(fontsize=12)\n",
    "plt.yticks(fontsize=12)\n",
    "\n",
    "plt.tight_layout()\n",
    "plt.show()"
   ]
  },
  {
   "cell_type": "code",
   "execution_count": null,
   "id": "b4847dac",
   "metadata": {},
   "outputs": [],
   "source": []
  },
  {
   "cell_type": "code",
   "execution_count": null,
   "id": "7954d5fa",
   "metadata": {},
   "outputs": [],
   "source": []
  },
  {
   "cell_type": "code",
   "execution_count": null,
   "id": "1c1a6cab",
   "metadata": {},
   "outputs": [],
   "source": []
  }
 ],
 "metadata": {
  "kernelspec": {
   "display_name": "Python 3 (ipykernel)",
   "language": "python",
   "name": "python3"
  },
  "language_info": {
   "codemirror_mode": {
    "name": "ipython",
    "version": 3
   },
   "file_extension": ".py",
   "mimetype": "text/x-python",
   "name": "python",
   "nbconvert_exporter": "python",
   "pygments_lexer": "ipython3",
   "version": "3.9.12"
  }
 },
 "nbformat": 4,
 "nbformat_minor": 5
}
