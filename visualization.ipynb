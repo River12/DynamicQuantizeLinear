{
 "cells": [
  {
   "cell_type": "code",
   "execution_count": 1,
   "id": "220539c5-6912-4bf7-acf6-90a63479c45a",
   "metadata": {},
   "outputs": [],
   "source": [
    "import matplotlib.pyplot as plt\n",
    "import pandas as pd\n",
    "import numpy as np"
   ]
  },
  {
   "attachments": {},
   "cell_type": "markdown",
   "id": "da0875ad",
   "metadata": {},
   "source": [
    "# Correctness Test\n",
    "from https://github.com/onnx/onnx/blob/main/docs/Operators.md#DynamicQuantizeLinear"
   ]
  },
  {
   "cell_type": "code",
   "execution_count": 2,
   "id": "b8fd1685",
   "metadata": {},
   "outputs": [
    {
     "name": "stdout",
     "output_type": "stream",
     "text": [
      "Y_Scale:  0.019607844 , Y_ZeroPoint:  153\n",
      "Y:  [153 255   0  26 221 179]\n"
     ]
    }
   ],
   "source": [
    "# Test Case 1\n",
    "X = np.array([0, 2, -3, -2.5, 1.34, 0.5]).astype(np.float32)\n",
    "x_min = np.minimum(0, np.min(X))\n",
    "x_max = np.maximum(0, np.max(X))\n",
    "Y_Scale = np.float32((x_max - x_min) / (255 - 0))  # uint8 -> [0, 255]\n",
    "Y_ZeroPoint = np.clip(round((0 - x_min) / Y_Scale), 0, 255).astype(np.uint8)\n",
    "Y = np.clip(np.round(X / Y_Scale) + Y_ZeroPoint, 0, 255).astype(np.uint8)\n",
    "\n",
    "print(\"Y_Scale: \", Y_Scale, \", Y_ZeroPoint: \", Y_ZeroPoint)\n",
    "print(\"Y: \", Y)"
   ]
  },
  {
   "cell_type": "code",
   "execution_count": 3,
   "id": "b67725cc",
   "metadata": {},
   "outputs": [
    {
     "name": "stdout",
     "output_type": "stream",
     "text": [
      "Y_Scale:  0.015686275 , Y_ZeroPoint:  255\n",
      "Y:  [191 121 172  96  42   0]\n"
     ]
    }
   ],
   "source": [
    "# Test Case 2\n",
    "X = np.array([-1.0, -2.1, -1.3, -2.5, -3.34, -4.0]).astype(np.float32)\n",
    "x_min = np.minimum(0, np.min(X))\n",
    "x_max = np.maximum(0, np.max(X))\n",
    "Y_Scale = np.float32((x_max - x_min) / (255 - 0))  # uint8 -> [0, 255]\n",
    "Y_ZeroPoint = np.clip(round((0 - x_min) / Y_Scale), 0, 255).astype(np.uint8)\n",
    "Y = np.clip(np.round(X / Y_Scale) + Y_ZeroPoint, 0, 255).astype(np.uint8)\n",
    "\n",
    "print(\"Y_Scale: \", Y_Scale, \", Y_ZeroPoint: \", Y_ZeroPoint)\n",
    "print(\"Y: \", Y)"
   ]
  },
  {
   "cell_type": "code",
   "execution_count": 4,
   "id": "b6dae284",
   "metadata": {},
   "outputs": [
    {
     "name": "stdout",
     "output_type": "stream",
     "text": [
      "Y_Scale:  0.015686275 , Y_ZeroPoint:  0\n",
      "Y:  [[ 64 134  83 159]\n",
      " [213 255  96 166]\n",
      " [249 255 191 149]]\n"
     ]
    }
   ],
   "source": [
    "# Test Case 3\n",
    "X = (\n",
    "    np.array([1, 2.1, 1.3, 2.5, 3.34, 4.0, 1.5, 2.6, 3.9, 4.0, 3.0, 2.345])\n",
    "    .astype(np.float32)\n",
    "    .reshape((3, 4))\n",
    ")\n",
    "\n",
    "# expected scale 0.0156862754 and zero point 0\n",
    "x_min = np.minimum(0, np.min(X))\n",
    "x_max = np.maximum(0, np.max(X))\n",
    "Y_Scale = np.float32((x_max - x_min) / (255 - 0))  # uint8 -> [0, 255]\n",
    "Y_ZeroPoint = np.clip(round((0 - x_min) / Y_Scale), 0, 255).astype(np.uint8)\n",
    "Y = np.clip(np.round(X / Y_Scale) + Y_ZeroPoint, 0, 255).astype(np.uint8)\n",
    "\n",
    "print(\"Y_Scale: \", Y_Scale, \", Y_ZeroPoint: \", Y_ZeroPoint)\n",
    "print(\"Y: \", Y)"
   ]
  },
  {
   "cell_type": "markdown",
   "id": "d14dca21-1afa-4927-ab8d-039c42c76102",
   "metadata": {},
   "source": [
    "## Optimization Method Comparision"
   ]
  },
  {
   "cell_type": "code",
   "execution_count": 52,
   "id": "97998ecc",
   "metadata": {},
   "outputs": [
    {
     "data": {
      "text/html": [
       "<div>\n",
       "<style scoped>\n",
       "    .dataframe tbody tr th:only-of-type {\n",
       "        vertical-align: middle;\n",
       "    }\n",
       "\n",
       "    .dataframe tbody tr th {\n",
       "        vertical-align: top;\n",
       "    }\n",
       "\n",
       "    .dataframe thead th {\n",
       "        text-align: right;\n",
       "    }\n",
       "</style>\n",
       "<table border=\"1\" class=\"dataframe\">\n",
       "  <thead>\n",
       "    <tr style=\"text-align: right;\">\n",
       "      <th></th>\n",
       "      <th>naive</th>\n",
       "      <th>omp</th>\n",
       "      <th>omp_tiling</th>\n",
       "      <th>omp_avx</th>\n",
       "      <th>omp_avx512</th>\n",
       "      <th>omp_avx512_fused</th>\n",
       "    </tr>\n",
       "  </thead>\n",
       "  <tbody>\n",
       "    <tr>\n",
       "      <th>0</th>\n",
       "      <td>13.956347</td>\n",
       "      <td>0.818263</td>\n",
       "      <td>0.879274</td>\n",
       "      <td>0.401769</td>\n",
       "      <td>0.398064</td>\n",
       "      <td>0.410037</td>\n",
       "    </tr>\n",
       "    <tr>\n",
       "      <th>1</th>\n",
       "      <td>13.971352</td>\n",
       "      <td>0.842235</td>\n",
       "      <td>0.880167</td>\n",
       "      <td>0.410642</td>\n",
       "      <td>0.405039</td>\n",
       "      <td>0.400673</td>\n",
       "    </tr>\n",
       "    <tr>\n",
       "      <th>2</th>\n",
       "      <td>13.995570</td>\n",
       "      <td>0.940417</td>\n",
       "      <td>0.877656</td>\n",
       "      <td>0.349971</td>\n",
       "      <td>0.418020</td>\n",
       "      <td>0.389262</td>\n",
       "    </tr>\n",
       "    <tr>\n",
       "      <th>3</th>\n",
       "      <td>14.028488</td>\n",
       "      <td>0.723770</td>\n",
       "      <td>0.852373</td>\n",
       "      <td>0.387864</td>\n",
       "      <td>0.414938</td>\n",
       "      <td>0.404052</td>\n",
       "    </tr>\n",
       "    <tr>\n",
       "      <th>4</th>\n",
       "      <td>14.044231</td>\n",
       "      <td>0.790120</td>\n",
       "      <td>0.783126</td>\n",
       "      <td>0.380312</td>\n",
       "      <td>0.386257</td>\n",
       "      <td>0.429286</td>\n",
       "    </tr>\n",
       "  </tbody>\n",
       "</table>\n",
       "</div>"
      ],
      "text/plain": [
       "       naive       omp  omp_tiling   omp_avx  omp_avx512  omp_avx512_fused\n",
       "0  13.956347  0.818263    0.879274  0.401769    0.398064          0.410037\n",
       "1  13.971352  0.842235    0.880167  0.410642    0.405039          0.400673\n",
       "2  13.995570  0.940417    0.877656  0.349971    0.418020          0.389262\n",
       "3  14.028488  0.723770    0.852373  0.387864    0.414938          0.404052\n",
       "4  14.044231  0.790120    0.783126  0.380312    0.386257          0.429286"
      ]
     },
     "execution_count": 52,
     "metadata": {},
     "output_type": "execute_result"
    }
   ],
   "source": [
    "# read data\n",
    "df = pd.read_csv(\"performance.csv\", header=None, \n",
    "                 names = ['naive', 'omp', 'omp_tiling', 'omp_avx', \n",
    "                          'omp_avx512', 'omp_avx512_fused'])\n",
    "df.head()"
   ]
  },
  {
   "cell_type": "code",
   "execution_count": 53,
   "id": "362efded",
   "metadata": {},
   "outputs": [
    {
     "name": "stdout",
     "output_type": "stream",
     "text": [
      "Average Runtime(s):\n"
     ]
    },
    {
     "data": {
      "text/plain": [
       "naive               14.035129\n",
       "omp                  0.795125\n",
       "omp_tiling           0.843709\n",
       "omp_avx              0.404016\n",
       "omp_avx512           0.405025\n",
       "omp_avx512_fused     0.409883\n",
       "dtype: float64"
      ]
     },
     "execution_count": 53,
     "metadata": {},
     "output_type": "execute_result"
    }
   ],
   "source": [
    "print(\"Average Runtime(s):\")\n",
    "df.mean()"
   ]
  },
  {
   "cell_type": "code",
   "execution_count": 58,
   "id": "babf90e2",
   "metadata": {},
   "outputs": [
    {
     "data": {
      "image/png": "[encoded data removed]",
      "text/plain": [
       "<Figure size 504x288 with 1 Axes>"
      ]
     },
     "metadata": {
      "needs_background": "light"
     },
     "output_type": "display_data"
    }
   ],
   "source": [
    "plt.figure(figsize=(7, 4))\n",
    "\n",
    "boxprops = dict(color='gray', facecolor='green', alpha=0.5)\n",
    "whiskerprops = dict(linestyle='--', linewidth=1.5, color='gray')\n",
    "capprops = dict(linestyle='-', linewidth=2, color='black')\n",
    "\n",
    "# Create boxplot\n",
    "ax = df.boxplot(color=dict(boxes='red', whiskers='black', medians='orange', caps='gray'), \n",
    "                boxprops=boxprops, whiskerprops=whiskerprops, capprops=capprops, patch_artist=True)\n",
    "\n",
    "# Add labels and title\n",
    "ax.set_xlabel('Optimization Methods', fontsize=14)\n",
    "ax.set_ylabel('Runtime(s)', fontsize=14)\n",
    "ax.set_title('Runtime Comparison (32 threads, input size 1e9)', fontsize=16)\n",
    "\n",
    "plt.xticks(fontsize=12, rotation=8)\n",
    "plt.yticks(fontsize=12)\n",
    "\n",
    "plt.tight_layout()\n",
    "plt.show()\n",
    "# scatter average point"
   ]
  },
  {
   "cell_type": "code",
   "execution_count": 55,
   "id": "8897c284",
   "metadata": {},
   "outputs": [
    {
     "data": {
      "text/plain": [
       "omp                 17.771748\n",
       "omp_tiling          16.710921\n",
       "omp_avx             34.840111\n",
       "omp_avx512          34.743013\n",
       "omp_avx512_fused    34.329891\n",
       "dtype: float64"
      ]
     },
     "execution_count": 55,
     "metadata": {},
     "output_type": "execute_result"
    }
   ],
   "source": [
    "df_speedup = df[df.columns[1:]].apply(lambda x: df.iloc[:, 0] / x)\n",
    "df_speedup.mean()"
   ]
  },
  {
   "cell_type": "code",
   "execution_count": 56,
   "id": "cefb7e90",
   "metadata": {},
   "outputs": [
    {
     "data": {
      "image/png": "[encoded data removed]",
      "text/plain": [
       "<Figure size 504x288 with 1 Axes>"
      ]
     },
     "metadata": {
      "needs_background": "light"
     },
     "output_type": "display_data"
    }
   ],
   "source": [
    "plt.figure(figsize=(7, 4))\n",
    "\n",
    "boxprops = dict(color='gray', facecolor='green', alpha=0.5)\n",
    "whiskerprops = dict(linestyle='--', linewidth=1.5, color='gray')\n",
    "capprops = dict(linestyle='-', linewidth=2, color='black')\n",
    "\n",
    "ax = df_speedup.boxplot(color=dict(boxes='red', whiskers='black', medians='orange', caps='gray'), \n",
    "                boxprops=boxprops, whiskerprops=whiskerprops, capprops=capprops, patch_artist=True)\n",
    "\n",
    "ax.set_xlabel('Optimization Methods', fontsize=14)\n",
    "ax.set_ylabel('Speedup(x)', fontsize=14)\n",
    "ax.set_title('Speedup Comparison (32 threads, input size 1e9)', fontsize=16)\n",
    "\n",
    "plt.xticks(fontsize=12, rotation=8)\n",
    "plt.yticks(fontsize=12)\n",
    "\n",
    "plt.tight_layout()\n",
    "plt.show()\n",
    "\n",
    "\n",
    "# scatter average point"
   ]
  },
  {
   "cell_type": "markdown",
   "id": "3653a154-75df-49ba-a249-8a4b0a9616ea",
   "metadata": {},
   "source": [
    "## Input Matrix Size Comparison"
   ]
  },
  {
   "cell_type": "code",
   "execution_count": null,
   "id": "49c979ee-4a86-4e66-9b9b-b1fd9cb3dfed",
   "metadata": {},
   "outputs": [],
   "source": [
    "# TODO"
   ]
  },
  {
   "cell_type": "code",
   "execution_count": null,
   "id": "e4075302-8fd9-4538-bd7a-0a40f978aa7b",
   "metadata": {},
   "outputs": [],
   "source": []
  },
  {
   "attachments": {},
   "cell_type": "markdown",
   "id": "0ce5601d-15e7-4175-9a0a-11e418f5ebbe",
   "metadata": {},
   "source": [
    "## Scalability"
   ]
  },
  {
   "cell_type": "code",
   "execution_count": null,
   "id": "418213c2-eada-4eba-984f-75743f35f1da",
   "metadata": {},
   "outputs": [],
   "source": [
    "# TODO\n",
    "\n",
    "# threads: 1, 4, 8, 16, 32, 64\n",
    "\n",
    "# boxplot\n",
    "\n",
    "# plot average point"
   ]
  },
  {
   "cell_type": "code",
   "execution_count": null,
   "id": "ab8c4d9b",
   "metadata": {},
   "outputs": [],
   "source": []
  }
 ],
 "metadata": {
  "kernelspec": {
   "display_name": "Python 3 (ipykernel)",
   "language": "python",
   "name": "python3"
  },
  "language_info": {
   "codemirror_mode": {
    "name": "ipython",
    "version": 3
   },
   "file_extension": ".py",
   "mimetype": "text/x-python",
   "name": "python",
   "nbconvert_exporter": "python",
   "pygments_lexer": "ipython3",
   "version": "3.9.12"
  }
 },
 "nbformat": 4,
 "nbformat_minor": 5
}
